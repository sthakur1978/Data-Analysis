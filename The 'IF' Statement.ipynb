{
 "cells": [
  {
   "cell_type": "code",
   "execution_count": 1,
   "metadata": {},
   "outputs": [],
   "source": [
    "# if elif else and nested statements"
   ]
  },
  {
   "cell_type": "code",
   "execution_count": 2,
   "metadata": {},
   "outputs": [],
   "source": [
    "# -1 ---- 0 --- 1"
   ]
  },
  {
   "cell_type": "code",
   "execution_count": 3,
   "metadata": {},
   "outputs": [],
   "source": [
    "import numpy as np\n",
    "from numpy.random import randn"
   ]
  },
  {
   "cell_type": "code",
   "execution_count": 9,
   "metadata": {},
   "outputs": [
    {
     "data": {
      "text/plain": [
       "0.17937748106013338"
      ]
     },
     "execution_count": 9,
     "metadata": {},
     "output_type": "execute_result"
    }
   ],
   "source": [
    "randn()\n"
   ]
  },
  {
   "cell_type": "code",
   "execution_count": 26,
   "metadata": {},
   "outputs": [
    {
     "name": "stdout",
     "output_type": "stream",
     "text": [
      "1.7393365130726448\n",
      "greater than 1\n"
     ]
    }
   ],
   "source": [
    "answer = None\n",
    "x = randn()\n",
    "if x > 1:\n",
    "    answer = 'greater than 1'\n",
    "print(x)\n",
    "print(answer)"
   ]
  },
  {
   "cell_type": "code",
   "execution_count": 32,
   "metadata": {},
   "outputs": [
    {
     "name": "stdout",
     "output_type": "stream",
     "text": [
      "-1.0027553282601793\n",
      "less than 1\n"
     ]
    }
   ],
   "source": [
    "answer = None\n",
    "x = randn()\n",
    "if x > 1:\n",
    "    answer = 'greater than 1'\n",
    "else:\n",
    "    answer = 'less than 1'\n",
    "print(x)\n",
    "print(answer)"
   ]
  },
  {
   "cell_type": "code",
   "execution_count": 36,
   "metadata": {},
   "outputs": [
    {
     "name": "stdout",
     "output_type": "stream",
     "text": [
      "-1.0515736944021281\n",
      "less than -1 \n"
     ]
    }
   ],
   "source": [
    "# Nested Statement\n",
    "answer = None\n",
    "x = randn()\n",
    "if x > 1:\n",
    "    answer = 'greater than 1'\n",
    "else:\n",
    "    if x >= -1:\n",
    "        answer = 'Between -1 and 1'\n",
    "    else:\n",
    "        answer = 'less than -1 '\n",
    "    \n",
    "print(x)\n",
    "print(answer)"
   ]
  },
  {
   "cell_type": "code",
   "execution_count": 85,
   "metadata": {},
   "outputs": [
    {
     "name": "stdout",
     "output_type": "stream",
     "text": [
      "hello\n",
      "-1.8514662551378005\n",
      "less than -1 \n"
     ]
    }
   ],
   "source": [
    "# Chained Statement\n",
    "answer = None\n",
    "x = randn()\n",
    "if x > 1:\n",
    "    answer = 'greater than 1'\n",
    "elif  x >= -1:\n",
    "    answer = 'Between -1 and 1'\n",
    "else:\n",
    "    answer = 'less than -1 '\n",
    "    print('hello')\n",
    "print(x)\n",
    "print(answer)"
   ]
  },
  {
   "cell_type": "code",
   "execution_count": null,
   "metadata": {},
   "outputs": [],
   "source": []
  }
 ],
 "metadata": {
  "kernelspec": {
   "display_name": "Python 3",
   "language": "python",
   "name": "python3"
  },
  "language_info": {
   "codemirror_mode": {
    "name": "ipython",
    "version": 3
   },
   "file_extension": ".py",
   "mimetype": "text/x-python",
   "name": "python",
   "nbconvert_exporter": "python",
   "pygments_lexer": "ipython3",
   "version": "3.6.4"
  }
 },
 "nbformat": 4,
 "nbformat_minor": 2
}
